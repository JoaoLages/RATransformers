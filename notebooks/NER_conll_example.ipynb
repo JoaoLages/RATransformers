{
 "cells": [
  {
   "cell_type": "code",
   "execution_count": 1,
   "id": "636ff184",
   "metadata": {},
   "outputs": [],
   "source": [
    "import ratransformers\n",
    "\n",
    "example = \"My name is Clara and I live in Berkeley, California.\"\n",
    "\n",
    "ratransformer = ratransformers.RATransformer(\n",
    "    \"dslim/bert-base-NER\", \n",
    "    relation_kinds=['is_value_of_column', 'is_from_same_row'],\n",
    ")\n",
    "model = ratransformer.model\n",
    "tokenizer = ratransformer.tokenizer"
   ]
  },
  {
   "cell_type": "code",
   "execution_count": 2,
   "id": "2ec8aca9",
   "metadata": {},
   "outputs": [
    {
     "name": "stdout",
     "output_type": "stream",
     "text": [
      "My O\n",
      "name O\n",
      "is O\n",
      "Clara B-PER\n",
      "and O\n",
      "I O\n",
      "live O\n",
      "in O\n",
      "Berkeley B-LOC\n",
      ", O\n",
      "California B-LOC\n",
      ". O\n"
     ]
    }
   ],
   "source": [
    "# encode \n",
    "encoding = tokenizer(example, return_tensors=\"pt\", input_relations=None)\n",
    "\n",
    "# forward pass\n",
    "outputs = model(**encoding)\n",
    "\n",
    "# get labels ids and convert to label tags\n",
    "labels = outputs.logits.argmax(-1)\n",
    "tokens_to_labels = [model.config.id2label[label_id.item()] for label_id in labels[0]]\n",
    "\n",
    "# print tokens with their predicted NER tags\n",
    "for i, token_i_map in enumerate(encoding['offset_mapping'][0]):\n",
    "    span = token_i_map.tolist()\n",
    "    token = example[span[0]:span[1]]\n",
    "    if token: # skip special tokens\n",
    "        print(token, tokens_to_labels[i])"
   ]
  }
 ],
 "metadata": {
  "kernelspec": {
   "display_name": "Python 3",
   "language": "python",
   "name": "python3"
  },
  "language_info": {
   "codemirror_mode": {
    "name": "ipython",
    "version": 3
   },
   "file_extension": ".py",
   "mimetype": "text/x-python",
   "name": "python",
   "nbconvert_exporter": "python",
   "pygments_lexer": "ipython3",
   "version": "3.6.9"
  }
 },
 "nbformat": 4,
 "nbformat_minor": 5
}
