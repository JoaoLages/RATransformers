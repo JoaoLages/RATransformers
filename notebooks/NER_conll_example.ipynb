{
 "cells": [
  {
   "cell_type": "code",
   "execution_count": null,
   "id": "0b4a5857",
   "metadata": {
    "pycharm": {
     "name": "#%%\n"
    }
   },
   "outputs": [],
   "source": [
    "!pip install datasets"
   ]
  },
  {
   "cell_type": "code",
   "execution_count": 2,
   "id": "636ff184",
   "metadata": {
    "pycharm": {
     "name": "#%%\n"
    }
   },
   "outputs": [
    {
     "name": "stderr",
     "output_type": "stream",
     "text": [
      "Reusing dataset conll2003 (/home/ola/.cache/huggingface/datasets/conll2003/conll2003/1.0.0/63f4ebd1bcb7148b1644497336fd74643d4ce70123334431a3c053b7ee4e96ee)\n"
     ]
    },
    {
     "data": {
      "application/vnd.jupyter.widget-view+json": {
       "model_id": "da46312ea7114898bc51966b2fe78766",
       "version_major": 2,
       "version_minor": 0
      },
      "text/plain": [
       "  0%|          | 0/3 [00:00<?, ?it/s]"
      ]
     },
     "metadata": {},
     "output_type": "display_data"
    }
   ],
   "source": [
    "from datasets import load_dataset\n",
    "import ratransformers\n",
    "\n",
    "# Load dataset\n",
    "dataset = load_dataset('conll2003')\n",
    "\n",
    "# copied from https://huggingface.co/datasets/conll2003\n",
    "pos_tag_to_id = {'\"': 0, \"''\": 1, '#': 2, '$': 3, '(': 4, ')': 5, ',': 6, '.': 7, ':': 8, '``': 9, 'CC': 10, 'CD': 11, 'DT': 12,\n",
    " 'EX': 13, 'FW': 14, 'IN': 15, 'JJ': 16, 'JJR': 17, 'JJS': 18, 'LS': 19, 'MD': 20, 'NN': 21, 'NNP': 22, 'NNPS': 23,\n",
    " 'NNS': 24, 'NN|SYM': 25, 'PDT': 26, 'POS': 27, 'PRP': 28, 'PRP$': 29, 'RB': 30, 'RBR': 31, 'RBS': 32, 'RP': 33,\n",
    " 'SYM': 34, 'TO': 35, 'UH': 36, 'VB': 37, 'VBD': 38, 'VBG': 39, 'VBN': 40, 'VBP': 41, 'VBZ': 42, 'WDT': 43,\n",
    " 'WP': 44, 'WP$': 45, 'WRB': 46}\n",
    "\n",
    "id_to_pos_tag = {v: k for k, v in pos_tag_to_id.items()}"
   ]
  },
  {
   "cell_type": "code",
   "execution_count": 3,
   "id": "a27dfb70",
   "metadata": {
    "pycharm": {
     "name": "#%%\n"
    }
   },
   "outputs": [],
   "source": [
    "from transformers import AutoModelForTokenClassification\n",
    "\n",
    "# Load ratransformer model and tokenizer\n",
    "ratransformer = ratransformers.RATransformer(\n",
    "    \"dslim/bert-base-NER\", \n",
    "    relation_kinds=list(pos_tag_to_id),\n",
    "    model_cls=AutoModelForTokenClassification\n",
    ")\n",
    "model = ratransformer.model\n",
    "tokenizer = ratransformer.tokenizer"
   ]
  },
  {
   "cell_type": "code",
   "execution_count": 4,
   "id": "c1c2ab13",
   "metadata": {
    "pycharm": {
     "name": "#%%\n"
    }
   },
   "outputs": [
    {
     "data": {
      "text/plain": [
       "{'id': '0',\n",
       " 'tokens': ['EU',\n",
       "  'rejects',\n",
       "  'German',\n",
       "  'call',\n",
       "  'to',\n",
       "  'boycott',\n",
       "  'British',\n",
       "  'lamb',\n",
       "  '.'],\n",
       " 'pos_tags': [22, 42, 16, 21, 35, 37, 16, 21, 7],\n",
       " 'chunk_tags': [11, 21, 11, 12, 21, 22, 11, 12, 0],\n",
       " 'ner_tags': [3, 0, 7, 0, 0, 0, 7, 0, 0]}"
      ]
     },
     "execution_count": 4,
     "metadata": {},
     "output_type": "execute_result"
    }
   ],
   "source": [
    "dataset['train'][0]"
   ]
  },
  {
   "cell_type": "code",
   "execution_count": 5,
   "id": "32253dd7",
   "metadata": {
    "pycharm": {
     "name": "#%%\n"
    }
   },
   "outputs": [
    {
     "data": {
      "text/plain": [
       "defaultdict(dict,\n",
       "            {(0, 2): {(0, 2): 'NNP'},\n",
       "             (3, 10): {(3, 10): 'VBZ'},\n",
       "             (11, 17): {(11, 17): 'JJ'},\n",
       "             (18, 22): {(18, 22): 'NN'},\n",
       "             (23, 25): {(23, 25): 'TO'},\n",
       "             (26, 33): {(26, 33): 'VB'},\n",
       "             (34, 41): {(34, 41): 'JJ'},\n",
       "             (42, 46): {(42, 46): 'NN'},\n",
       "             (47, 48): {(47, 48): '.'}})"
      ]
     },
     "execution_count": 5,
     "metadata": {},
     "output_type": "execute_result"
    }
   ],
   "source": [
    "from collections import defaultdict\n",
    "\n",
    "# Construct a map from span in text to POS_TAG\n",
    "word_relations = defaultdict(dict)\n",
    "span_init = 0\n",
    "for tok, pos_tag_id in zip(dataset['train'][0]['tokens'], dataset['train'][0]['pos_tags']):\n",
    "    span = (span_init, span_init + len(tok))\n",
    "    word_relations[span][span] = id_to_pos_tag[pos_tag_id]\n",
    "    span_init = span_init + len(tok + ' ')\n",
    "word_relations"
   ]
  },
  {
   "cell_type": "code",
   "execution_count": 6,
   "id": "2ec8aca9",
   "metadata": {
    "pycharm": {
     "name": "#%%\n"
    }
   },
   "outputs": [
    {
     "name": "stdout",
     "output_type": "stream",
     "text": [
      "EU B-ORG\n",
      "rejects O\n",
      "German B-MISC\n",
      "call O\n",
      "to O\n",
      "boycott O\n",
      "British B-MISC\n",
      "la O\n",
      "mb O\n",
      ". O\n"
     ]
    }
   ],
   "source": [
    "# encode \n",
    "text = \" \".join(dataset['train'][0]['tokens'])\n",
    "encoding = tokenizer(\n",
    "    text, \n",
    "    return_tensors=\"pt\", \n",
    "    input_relations=word_relations\n",
    ")\n",
    "\n",
    "# forward pass\n",
    "outputs = model(**encoding)\n",
    "\n",
    "# get labels ids and convert to label tags\n",
    "labels = outputs.logits.argmax(-1)\n",
    "tokens_to_labels = [model.config.id2label[label_id.item()] for label_id in labels[0]]\n",
    "\n",
    "# print tokens with their predicted NER tags\n",
    "for i, token_i_map in enumerate(encoding['offset_mapping'][0]):\n",
    "    span = token_i_map.tolist()\n",
    "    token = text[span[0]:span[1]]\n",
    "    if token: # skip special tokens\n",
    "        print(token, tokens_to_labels[i])"
   ]
  },
  {
   "cell_type": "markdown",
   "id": "9246c501",
   "metadata": {
    "pycharm": {
     "name": "#%% md\n"
    }
   },
   "source": [
    "**Your model is now ready to be trained with relational information in the input!**\n",
    "\n",
    "Check the standard procedure to train HuggingFace 🤗 models in [here](https://huggingface.co/docs/transformers/training)."
   ]
  }
 ],
 "metadata": {
  "kernelspec": {
   "display_name": "Python 3",
   "language": "python",
   "name": "python3"
  },
  "language_info": {
   "codemirror_mode": {
    "name": "ipython",
    "version": 3
   },
   "file_extension": ".py",
   "mimetype": "text/x-python",
   "name": "python",
   "nbconvert_exporter": "python",
   "pygments_lexer": "ipython3",
   "version": "3.7.12"
  }
 },
 "nbformat": 4,
 "nbformat_minor": 5
}