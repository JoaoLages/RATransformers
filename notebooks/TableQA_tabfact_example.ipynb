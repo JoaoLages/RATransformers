{
 "cells": [
  {
   "cell_type": "code",
   "execution_count": 1,
   "id": "7841fcd4",
   "metadata": {},
   "outputs": [],
   "source": [
    "import ratransformers\n",
    "import pandas as pd\n",
    "from transformers import BartTokenizer\n",
    "\n",
    "\n",
    "ratransformer = ratransformers.RATransformer(\n",
    "    \"nielsr/tapex-large-finetuned-tabfact\", \n",
    "    relation_kinds=['is_value_of_column', 'is_from_same_row'],\n",
    ")\n",
    "model = ratransformer.model\n",
    "tokenizer = ratransformer.tokenizer\n",
    "\n",
    "# create table\n",
    "data = {'Actors': [\"Brad Pitt\", \"Leonardo Di Caprio\", \"George Clooney\"], 'Number of movies': [\"87\", \"53\", \"69\"]}\n",
    "table = pd.DataFrame.from_dict(data)\n",
    "\n",
    "# turn into dict\n",
    "table_dict = {\"header\": list(table.columns), \"rows\": [list(row.values) for i,row in table.iterrows()]}"
   ]
  },
  {
   "cell_type": "code",
   "execution_count": 2,
   "id": "df24f04d",
   "metadata": {},
   "outputs": [
    {
     "data": {
      "text/html": [
       "<div>\n",
       "<style scoped>\n",
       "    .dataframe tbody tr th:only-of-type {\n",
       "        vertical-align: middle;\n",
       "    }\n",
       "\n",
       "    .dataframe tbody tr th {\n",
       "        vertical-align: top;\n",
       "    }\n",
       "\n",
       "    .dataframe thead th {\n",
       "        text-align: right;\n",
       "    }\n",
       "</style>\n",
       "<table border=\"1\" class=\"dataframe\">\n",
       "  <thead>\n",
       "    <tr style=\"text-align: right;\">\n",
       "      <th></th>\n",
       "      <th>Actors</th>\n",
       "      <th>Number of movies</th>\n",
       "    </tr>\n",
       "  </thead>\n",
       "  <tbody>\n",
       "    <tr>\n",
       "      <th>0</th>\n",
       "      <td>Brad Pitt</td>\n",
       "      <td>87</td>\n",
       "    </tr>\n",
       "    <tr>\n",
       "      <th>1</th>\n",
       "      <td>Leonardo Di Caprio</td>\n",
       "      <td>53</td>\n",
       "    </tr>\n",
       "    <tr>\n",
       "      <th>2</th>\n",
       "      <td>George Clooney</td>\n",
       "      <td>69</td>\n",
       "    </tr>\n",
       "  </tbody>\n",
       "</table>\n",
       "</div>"
      ],
      "text/plain": [
       "               Actors Number of movies\n",
       "0           Brad Pitt               87\n",
       "1  Leonardo Di Caprio               53\n",
       "2      George Clooney               69"
      ]
     },
     "execution_count": 2,
     "metadata": {},
     "output_type": "execute_result"
    }
   ],
   "source": [
    "table"
   ]
  },
  {
   "cell_type": "code",
   "execution_count": 3,
   "id": "3526ff9d",
   "metadata": {},
   "outputs": [
    {
     "data": {
      "text/plain": [
       "{'header': ['Actors', 'Number of movies'],\n",
       " 'rows': [['Brad Pitt', '87'],\n",
       "  ['Leonardo Di Caprio', '53'],\n",
       "  ['George Clooney', '69']]}"
      ]
     },
     "execution_count": 3,
     "metadata": {},
     "output_type": "execute_result"
    }
   ],
   "source": [
    "table_dict"
   ]
  },
  {
   "cell_type": "code",
   "execution_count": 4,
   "id": "9cb67881",
   "metadata": {},
   "outputs": [],
   "source": [
    "from collections import defaultdict \n",
    "import itertools\n",
    "\n",
    "\n",
    "class IndexedRowTableLinearize:\n",
    "    # adapted from https://github.com/microsoft/Table-Pretraining/blob/main/tapex/processor/table_linearize.py\n",
    "    \"\"\"\n",
    "    FORMAT: col: col1 | col2 | col 3 row 1 : val1 | val2 | val3 row 2 : ...\n",
    "    \"\"\"\n",
    "\n",
    "    def process_input(self, sentence, table_content):\n",
    "        \"\"\"\n",
    "        Given a sentence+ table, converts it into a flatten sequence with special symbols.\n",
    "        Also returns the word relations\n",
    "        \"\"\"\n",
    "        assert \"header\" in table_content and \"rows\" in table_content\n",
    "        \n",
    "        input_text = sentence\n",
    "        word_relations = defaultdict(dict)\n",
    "        \n",
    "        # process header\n",
    "        input_text += \"col : \"\n",
    "        col_id_to_span = {}\n",
    "        for i, col in enumerate(table_content[\"header\"]):\n",
    "            col_id_to_span[i] = (len(input_text), len(input_text) + len(col))\n",
    "            input_text += f\"{col} | \" \n",
    "                    \n",
    "        # process rows\n",
    "        for row_index, row in enumerate(table_content[\"rows\"]):\n",
    "            input_text += f\"row {row_index + 1} : \"\n",
    "            \n",
    "            all_cell_spans = []\n",
    "            for i, cell_value in enumerate(row):\n",
    "                cell_value = str(cell_value)\n",
    "                cell_span = (len(input_text), len(input_text) + len(cell_value))\n",
    "                all_cell_spans.append(cell_span)\n",
    "                \n",
    "                # save word relation - row value belong to specific column\n",
    "                word_relations[cell_span][col_id_to_span[i]] = \"is_value_of_column\"\n",
    "\n",
    "                input_text += f\"{cell_value} | \"\n",
    "                \n",
    "            # save word relation - all values belong to same row\n",
    "            for (span_i, span_j) in itertools.permutations(all_cell_spans, 2):\n",
    "                 word_relations[span_i][span_j] = \"is_from_same_row\"\n",
    "        \n",
    "        if input_text.endswith(' | '): # remove trailing characters\n",
    "            input_text = input_text[:-len(' | ')]\n",
    "        \n",
    "        return input_text, word_relations"
   ]
  },
  {
   "cell_type": "code",
   "execution_count": 5,
   "id": "136ca212",
   "metadata": {},
   "outputs": [
    {
     "name": "stdout",
     "output_type": "stream",
     "text": [
      "tensor([0])\n"
     ]
    }
   ],
   "source": [
    "linearizer = IndexedRowTableLinearize()\n",
    "\n",
    "sentence = \"George Clooney has 69 movies\"\n",
    "joint_input, word_relations = linearizer.process_input(sentence, table_dict)\n",
    "\n",
    "# encode \n",
    "encoding = tokenizer(joint_input, return_tensors=\"pt\", input_relations=word_relations)\n",
    "\n",
    "# forward pass\n",
    "outputs = model(**encoding)\n",
    "\n",
    "# print prediction\n",
    "logits = outputs.logits\n",
    "print(logits.argmax(-1))"
   ]
  },
  {
   "cell_type": "code",
   "execution_count": 6,
   "id": "5aff40ff",
   "metadata": {},
   "outputs": [
    {
     "data": {
      "text/plain": [
       "'George Clooney has 69 moviescol : Actors | Number of movies | row 1 : Brad Pitt | 87 | row 2 : Leonardo Di Caprio | 53 | row 3 : George Clooney | 69'"
      ]
     },
     "execution_count": 6,
     "metadata": {},
     "output_type": "execute_result"
    }
   ],
   "source": [
    "joint_input"
   ]
  },
  {
   "cell_type": "code",
   "execution_count": 7,
   "id": "c5131427",
   "metadata": {},
   "outputs": [
    {
     "data": {
      "text/plain": [
       "defaultdict(dict,\n",
       "            {(70, 79): {(34, 40): 'is_value_of_column',\n",
       "              (82, 84): 'is_from_same_row'},\n",
       "             (82, 84): {(43, 59): 'is_value_of_column',\n",
       "              (70, 79): 'is_from_same_row'},\n",
       "             (95, 113): {(34, 40): 'is_value_of_column',\n",
       "              (116, 118): 'is_from_same_row'},\n",
       "             (116, 118): {(43, 59): 'is_value_of_column',\n",
       "              (95, 113): 'is_from_same_row'},\n",
       "             (129, 143): {(34, 40): 'is_value_of_column',\n",
       "              (146, 148): 'is_from_same_row'},\n",
       "             (146, 148): {(43, 59): 'is_value_of_column',\n",
       "              (129, 143): 'is_from_same_row'}})"
      ]
     },
     "execution_count": 7,
     "metadata": {},
     "output_type": "execute_result"
    }
   ],
   "source": [
    "word_relations"
   ]
  },
  {
   "cell_type": "markdown",
   "id": "53aa1366",
   "metadata": {},
   "source": [
    "**Your model is now ready to be trained with relational information in the input!**\n",
    "\n",
    "Check the standard procedure to train HuggingFace 🤗 models in [here](https://huggingface.co/docs/transformers/training)."
   ]
  }
 ],
 "metadata": {
  "kernelspec": {
   "display_name": "Python 3",
   "language": "python",
   "name": "python3"
  },
  "language_info": {
   "codemirror_mode": {
    "name": "ipython",
    "version": 3
   },
   "file_extension": ".py",
   "mimetype": "text/x-python",
   "name": "python",
   "nbconvert_exporter": "python",
   "pygments_lexer": "ipython3",
   "version": "3.6.9"
  }
 },
 "nbformat": 4,
 "nbformat_minor": 5
}
