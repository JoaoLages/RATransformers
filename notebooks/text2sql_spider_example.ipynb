{
 "cells": [
  {
   "cell_type": "code",
   "execution_count": null,
   "id": "8223d01b",
   "metadata": {},
   "outputs": [],
   "source": [
    "%load_ext autoreload\n",
    "%autoreload 2\n",
    "\n",
    "import gdown\n",
    "\n",
    "url = 'https://drive.google.com/u/1/uc?export=download&confirm=k3T5&id=1_AckYkinAnhqmRQtGsQgUKAnTHxxX5J0'\n",
    "output = 'spider.zip'\n",
    "gdown.download(url, output, quiet=False)"
   ]
  },
  {
   "cell_type": "code",
   "execution_count": null,
   "id": "fa4faf7b",
   "metadata": {},
   "outputs": [],
   "source": [
    "!unzip spider.zip"
   ]
  },
  {
   "cell_type": "code",
   "execution_count": null,
   "id": "c2ae14d0",
   "metadata": {},
   "outputs": [],
   "source": [
    "import json\n",
    "\n",
    "with open('spider/tables.json') as fp:\n",
    "    tables = {t['db_id']: t for t in json.load(fp)}\n",
    "\n",
    "with open('spider/train_spider.json') as fp:\n",
    "    train_data = json.load(fp)\n",
    "\n",
    "with open('spider/train_others.json') as fp:\n",
    "    train_data += json.load(fp)\n",
    "\n",
    "with open('spider/dev.json') as fp:\n",
    "    test_data = json.load(fp)\n"
   ]
  },
  {
   "cell_type": "code",
   "execution_count": null,
   "id": "8242d534",
   "metadata": {},
   "outputs": [],
   "source": [
    "from collections import defaultdict\n",
    "\n",
    "def get_processed_data(raw_data):\n",
    "    X, y, X_word_relations = [], [], []\n",
    "    for d in raw_data:\n",
    "        input_text = d['question'] + f\" | {d['db_id']}\"\n",
    "        word_relations = defaultdict(dict)\n",
    "\n",
    "        table_span, table_i = None, None\n",
    "        for i, c_name in tables[d['db_id']]['column_names_original']:\n",
    "            if i < 0: continue\n",
    "            if table_i != i:\n",
    "                table_i = i\n",
    "                table_span = (len(input_text + ' | '), len(input_text + ' | ') + len(tables[d['db_id']]['table_names_original'][i]))\n",
    "                input_text += f\" | {tables[d['db_id']]['table_names_original'][i]} : \"\n",
    "\n",
    "                c_span = (len(input_text), len(input_text) + len(c_name))\n",
    "                input_text += c_name\n",
    "\n",
    "            else:\n",
    "                c_span = (len(input_text + ', '), len(input_text + ', ') + len(c_name))\n",
    "                input_text += f', {c_name}'\n",
    "\n",
    "            word_relations[table_span][c_span] = 'table_column_link'\n",
    "            word_relations[c_span][table_span] = 'column_table_link'\n",
    "\n",
    "        X.append(input_text.lower())\n",
    "        y.append((d['db_id'] + ' | ' + d['query']).lower())\n",
    "        X_word_relations.append(word_relations)\n",
    "        \n",
    "    return X, y, X_word_relations\n",
    "\n",
    "train_X, train_y, train_X_word_relations = get_processed_data(train_data)\n",
    "test_X, test_y, test_X_word_relations = get_processed_data(test_data)"
   ]
  },
  {
   "cell_type": "code",
   "execution_count": null,
   "id": "68bc75d5",
   "metadata": {},
   "outputs": [],
   "source": [
    "import ratransformers\n",
    "from transformers import Seq2SeqTrainer, Seq2SeqTrainingArguments\n",
    "\n",
    "ratransformer = ratransformers.RATransformer(\n",
    "    'tscholak/1zha5ono', \n",
    "    relation_kinds=['table_column_link', 'column_table_link'],\n",
    "    alias_model_name='t5'\n",
    ")\n",
    "model = ratransformer.model\n",
    "tokenizer = ratransformer.tokenizer"
   ]
  },
  {
   "cell_type": "code",
   "execution_count": null,
   "id": "acf8577a",
   "metadata": {},
   "outputs": [],
   "source": [
    "import torch\n",
    "\n",
    "class Text2SQLDataset(torch.utils.data.Dataset):\n",
    "    def __init__(self, X, y, X_word_relations, tokenizer):\n",
    "        self.X = X\n",
    "        self.y = y\n",
    "        self.X_word_relations = X_word_relations\n",
    "        self.tokenizer = tokenizer\n",
    "        \n",
    "    def __getitem__(self, index: int) -> dict:\n",
    "        \n",
    "        source = self.tokenizer(self.X[index], padding='max_length', input_relations=self.X_word_relations[index], return_tensors=\"pt\")\n",
    "        target = self.tokenizer(self.y[index], padding='max_length', input_relations=None, return_tensors=\"pt\")\n",
    "        \n",
    "        source_ids = source[\"input_ids\"].squeeze()\n",
    "        source_input_relations = source[\"input_relations\"].squeeze()\n",
    "        target_ids = target[\"input_ids\"].squeeze()\n",
    "        target_ids[target_ids == 0] = -100\n",
    "\n",
    "        src_mask = source[\"attention_mask\"].squeeze()\n",
    "        target_mask = target[\"attention_mask\"].squeeze()\n",
    "\n",
    "        return {\"input_ids\": source_ids,\n",
    "                \"attention_mask\": src_mask,\n",
    "                \"label\": target_ids,\n",
    "                \"decoder_attention_mask\": target_mask,\n",
    "                'input_relations': source_input_relations\n",
    "               }\n",
    "\n",
    "    def __len__(self):\n",
    "        return len(self.X)\n",
    "\n",
    "train_d = Text2SQLDataset(train_X, train_y, train_X_word_relations, tokenizer)\n",
    "val_d = Text2SQLDataset(test_X, test_y, test_X_word_relations, tokenizer)"
   ]
  },
  {
   "cell_type": "code",
   "execution_count": null,
   "id": "23b5a658",
   "metadata": {},
   "outputs": [],
   "source": [
    "training_args = Seq2SeqTrainingArguments(\n",
    "    output_dir='checkpoints',\n",
    "    per_device_train_batch_size=1,\n",
    "    gradient_accumulation_steps=2,\n",
    "    per_device_eval_batch_size=1\n",
    ")\n",
    "trainer = Seq2SeqTrainer(\n",
    "    model=model,      \n",
    "    args=training_args,\n",
    "    train_dataset=train_d,         \n",
    "    eval_dataset=val_d,            \n",
    "    tokenizer=tokenizer\n",
    ")\n",
    "trainer.train()"
   ]
  },
  {
   "cell_type": "code",
   "execution_count": null,
   "id": "9854bb38",
   "metadata": {},
   "outputs": [],
   "source": [
    "trainer.save_model('ra-tscholak/1zha5ono')"
   ]
  },
  {
   "cell_type": "code",
   "execution_count": null,
   "id": "06da266f",
   "metadata": {},
   "outputs": [],
   "source": []
  }
 ],
 "metadata": {
  "kernelspec": {
   "display_name": "Python 3",
   "language": "python",
   "name": "python3"
  },
  "language_info": {
   "codemirror_mode": {
    "name": "ipython",
    "version": 3
   },
   "file_extension": ".py",
   "mimetype": "text/x-python",
   "name": "python",
   "nbconvert_exporter": "python",
   "pygments_lexer": "ipython3",
   "version": "3.6.9"
  }
 },
 "nbformat": 4,
 "nbformat_minor": 5
}
